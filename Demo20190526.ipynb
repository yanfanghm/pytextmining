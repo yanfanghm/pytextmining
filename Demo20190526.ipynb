{
 "cells": [
  {
   "cell_type": "markdown",
   "metadata": {},
   "source": [
    "## Python Basic "
   ]
  },
  {
   "cell_type": "code",
   "execution_count": 1,
   "metadata": {},
   "outputs": [
    {
     "data": {
      "text/plain": [
       "5"
      ]
     },
     "execution_count": 1,
     "metadata": {},
     "output_type": "execute_result"
    }
   ],
   "source": [
    "a = 3\n",
    "b = 2\n",
    "a + b"
   ]
  },
  {
   "cell_type": "code",
   "execution_count": 2,
   "metadata": {},
   "outputs": [
    {
     "data": {
      "text/plain": [
       "11"
      ]
     },
     "execution_count": 2,
     "metadata": {},
     "output_type": "execute_result"
    }
   ],
   "source": [
    "a + 8"
   ]
  },
  {
   "cell_type": "markdown",
   "metadata": {},
   "source": [
    "## 英文斷詞"
   ]
  },
  {
   "cell_type": "code",
   "execution_count": 3,
   "metadata": {},
   "outputs": [
    {
     "data": {
      "text/plain": [
       "['this', 'is', 'a', 'book']"
      ]
     },
     "execution_count": 3,
     "metadata": {},
     "output_type": "execute_result"
    }
   ],
   "source": [
    "s = 'this is a book'\n",
    "s.split()"
   ]
  },
  {
   "cell_type": "markdown",
   "metadata": {},
   "source": [
    "## 安裝Jieba"
   ]
  },
  {
   "cell_type": "code",
   "execution_count": 4,
   "metadata": {},
   "outputs": [
    {
     "name": "stdout",
     "output_type": "stream",
     "text": [
      "Requirement already satisfied: jieba in /Users/davidchiu/.pyenv/versions/3.6.2/lib/python3.6/site-packages\n",
      "\u001b[33mYou are using pip version 9.0.1, however version 19.1.1 is available.\n",
      "You should consider upgrading via the 'pip install --upgrade pip' command.\u001b[0m\n"
     ]
    }
   ],
   "source": [
    "! pip install jieba"
   ]
  },
  {
   "cell_type": "markdown",
   "metadata": {},
   "source": [
    "## 中文斷詞"
   ]
  },
  {
   "cell_type": "code",
   "execution_count": 5,
   "metadata": {},
   "outputs": [
    {
     "name": "stderr",
     "output_type": "stream",
     "text": [
      "Building prefix dict from the default dictionary ...\n",
      "Dumping model to file cache /var/folders/46/b7dzk4mn6g54qzptv608w7d00000gn/T/jieba.cache\n",
      "Loading model cost 1.001 seconds.\n",
      "Prefix dict has been built succesfully.\n"
     ]
    },
    {
     "data": {
      "text/plain": [
       "['酸民婉君', '也', '可以', '報名', '嗎', '?']"
      ]
     },
     "execution_count": 5,
     "metadata": {},
     "output_type": "execute_result"
    }
   ],
   "source": [
    "import jieba\n",
    "\n",
    "s = '酸民婉君也可以報名嗎?'\n",
    "list(jieba.cut(s))"
   ]
  },
  {
   "cell_type": "code",
   "execution_count": 6,
   "metadata": {},
   "outputs": [],
   "source": [
    "s = '''\n",
    "有外貌美麗如女星范冰冰的馮姓女子2008年與陳姓富二代訂婚後無故悔婚，但馮女不告而別2年後，忽然回頭請陳男金援，癡情的陳男不但不計前嫌，對馮女數十次索討生日、情人節等禮物及資助學費等一概答應，竟連她結婚生子後要求生活費，也大方匯給10萬元，直到陳男也結婚，妻發現他竟贈百萬名畫給馮女，陳男才在妻逼迫下告馮女詐欺、侵占，並請求返還借款533萬餘元，但檢方認定陳男自願贈與，將馮女不起訴，台北地院也僅認定2013年間馮女謊稱買房討「房貸頭期款」部分陳男求償有理，判馮女須賠60萬元。\n",
    "'''"
   ]
  },
  {
   "cell_type": "code",
   "execution_count": 11,
   "metadata": {},
   "outputs": [
    {
     "data": {
      "text/plain": [
       "['',\n",
       " '有外貌美麗如女星范冰冰的馮姓女子2008年與陳姓富二代訂婚後無故悔婚',\n",
       " '但馮女不告而別2年後',\n",
       " '忽然回頭請陳男金援',\n",
       " '癡情的陳男不但不計前嫌',\n",
       " '對馮女數十次索討生日',\n",
       " '情人節等禮物及資助學費等一概答應',\n",
       " '竟連她結婚生子後要求生活費',\n",
       " '也大方匯給10萬元',\n",
       " '直到陳男也結婚',\n",
       " '妻發現他竟贈百萬名畫給馮女',\n",
       " '陳男才在妻逼迫下告馮女詐欺',\n",
       " '侵占',\n",
       " '並請求返還借款533萬餘元',\n",
       " '但檢方認定陳男自願贈與',\n",
       " '將馮女不起訴',\n",
       " '台北地院也僅認定2013年間馮女謊稱買房討',\n",
       " '房貸頭期款',\n",
       " '部分陳男求償有理',\n",
       " '判馮女須賠60萬元',\n",
       " '',\n",
       " '']"
      ]
     },
     "execution_count": 11,
     "metadata": {},
     "output_type": "execute_result"
    }
   ],
   "source": [
    "import re\n",
    "re.split('，|、|。|「|」|\\n', s)"
   ]
  },
  {
   "cell_type": "markdown",
   "metadata": {},
   "source": [
    "## Jieba"
   ]
  },
  {
   "cell_type": "code",
   "execution_count": 18,
   "metadata": {},
   "outputs": [],
   "source": [
    "import jieba\n",
    "?jieba.cut"
   ]
  },
  {
   "cell_type": "code",
   "execution_count": 13,
   "metadata": {},
   "outputs": [],
   "source": [
    "s = '大巨蛋案對市府同仁下封口令？　柯P否認'"
   ]
  },
  {
   "cell_type": "code",
   "execution_count": 14,
   "metadata": {},
   "outputs": [
    {
     "data": {
      "text/plain": [
       "<generator object Tokenizer.cut at 0x10b1f0360>"
      ]
     },
     "execution_count": 14,
     "metadata": {},
     "output_type": "execute_result"
    }
   ],
   "source": [
    "jieba.cut(s)"
   ]
  },
  {
   "cell_type": "code",
   "execution_count": 15,
   "metadata": {},
   "outputs": [],
   "source": [
    "seg_list = jieba.cut(s)"
   ]
  },
  {
   "cell_type": "code",
   "execution_count": 16,
   "metadata": {},
   "outputs": [
    {
     "name": "stdout",
     "output_type": "stream",
     "text": [
      "大\n",
      "巨蛋\n",
      "案對\n",
      "市府\n",
      "同仁\n",
      "下\n",
      "封口令\n",
      "？\n",
      "　\n",
      "柯\n",
      "P\n",
      "否認\n"
     ]
    }
   ],
   "source": [
    "for w in seg_list:\n",
    "    print(w)"
   ]
  },
  {
   "cell_type": "code",
   "execution_count": 17,
   "metadata": {},
   "outputs": [
    {
     "data": {
      "text/plain": [
       "['大', '巨蛋', '案對', '市府', '同仁', '下', '封口令', '？', '\\u3000', '柯', 'P', '否認']"
      ]
     },
     "execution_count": 17,
     "metadata": {},
     "output_type": "execute_result"
    }
   ],
   "source": [
    "seg_list = jieba.cut(s)\n",
    "list(seg_list)"
   ]
  },
  {
   "cell_type": "code",
   "execution_count": 20,
   "metadata": {},
   "outputs": [
    {
     "name": "stdout",
     "output_type": "stream",
     "text": [
      "['大', '巨蛋', '案', '對', '市府', '同仁', '下', '封口', '封口令', '口令', '', '', '', '柯', 'P', '否', '認']\n"
     ]
    }
   ],
   "source": [
    "seg_list = jieba.cut(s, cut_all=True)\n",
    "print(list(seg_list))"
   ]
  },
  {
   "cell_type": "code",
   "execution_count": 21,
   "metadata": {},
   "outputs": [
    {
     "data": {
      "text/plain": [
       "['大巨蛋', '案對', '市府', '同仁', '下', '封口令', '？', '\\u3000', '柯P', '否認']"
      ]
     },
     "execution_count": 21,
     "metadata": {},
     "output_type": "execute_result"
    }
   ],
   "source": [
    "import jieba\n",
    "jieba.load_userdict('userdict.txt')\n",
    "seg_list = jieba.cut(s)\n",
    "list(seg_list)"
   ]
  },
  {
   "cell_type": "markdown",
   "metadata": {},
   "source": [
    "## Jieba ZH_TW\n",
    "- https://github.com/ldkrsi/jieba-zh_TW\n",
    "- 解壓縮以後蓋過原本Jieba 位置：C:\\ProgramData\\Anaconda3\\Lib\\site-packages\\jieba"
   ]
  },
  {
   "cell_type": "code",
   "execution_count": 22,
   "metadata": {},
   "outputs": [
    {
     "name": "stdout",
     "output_type": "stream",
     "text": [
      "大巨蛋 N\n",
      "案 ng\n",
      "對 p\n",
      "市府 N\n",
      "同仁 N\n",
      "下 POST\n",
      "封口令 x\n",
      "？ x\n",
      "　 x\n",
      "柯P N\n",
      "否認 v\n"
     ]
    }
   ],
   "source": [
    "import jieba.posseg as pseg\n",
    "words = pseg.cut(\"大巨蛋案對市府同仁下封口令？　柯P否認\")\n",
    "for w in words:\n",
    "    print(w.word, w.flag)\n"
   ]
  },
  {
   "cell_type": "code",
   "execution_count": 23,
   "metadata": {},
   "outputs": [
    {
     "name": "stdout",
     "output_type": "stream",
     "text": [
      "大巨蛋 N\n",
      "案 ng\n",
      "對 p\n",
      "市府 N\n",
      "同仁 N\n",
      "下 POST\n",
      "封口令 n\n",
      "？ x\n",
      "　 x\n",
      "柯P N\n",
      "否認 v\n"
     ]
    }
   ],
   "source": [
    "import jieba.posseg as pseg\n",
    "jieba.load_userdict('userdict.txt')\n",
    "words = pseg.cut(\"大巨蛋案對市府同仁下封口令？　柯P否認\")\n",
    "for w in words:\n",
    "    print(w.word, w.flag)\n"
   ]
  },
  {
   "cell_type": "code",
   "execution_count": 25,
   "metadata": {},
   "outputs": [
    {
     "name": "stdout",
     "output_type": "stream",
     "text": [
      "大巨蛋 0 3\n",
      "案對 3 5\n",
      "市府 5 7\n",
      "同仁 7 9\n",
      "下 9 10\n",
      "封口令 10 13\n",
      "？ 13 14\n",
      "　 14 15\n",
      "柯P 15 17\n",
      "否認 17 19\n"
     ]
    }
   ],
   "source": [
    "sentence = \"大巨蛋案對市府同仁下封口令？　柯P否認\"\n",
    "words = jieba.tokenize(sentence)\n",
    "\n",
    "for tw in words:\n",
    "    print(tw[0], tw[1], tw[2])\n"
   ]
  },
  {
   "cell_type": "markdown",
   "metadata": {},
   "source": [
    "## 使用網路爬蟲擴增字典"
   ]
  },
  {
   "cell_type": "code",
   "execution_count": 29,
   "metadata": {},
   "outputs": [],
   "source": [
    "import requests\n",
    "from bs4 import BeautifulSoup\n",
    "res = requests.get('https://ec.ltn.com.tw/article/breakingnews/2802311')\n",
    "soup = BeautifulSoup(res.text, 'html.parser')\n",
    "words = soup.select_one('meta[name=\"keywords\"]')['content'].split(',')"
   ]
  },
  {
   "cell_type": "code",
   "execution_count": 31,
   "metadata": {},
   "outputs": [],
   "source": [
    "with open('userdict.txt', 'a') as f:\n",
    "    f.write('\\n')\n",
    "    for w in words:\n",
    "        f.write(w+'\\n')"
   ]
  },
  {
   "cell_type": "markdown",
   "metadata": {},
   "source": [
    "## 文字量化分析"
   ]
  },
  {
   "cell_type": "code",
   "execution_count": 32,
   "metadata": {},
   "outputs": [],
   "source": [
    "speech = '''\n",
    "各位國人同胞，記者朋友，大家早安。\n",
    "\n",
    "今天，雨下得很大，我希望國人同胞要注意交通安全，我也請蘇院長及行政團隊要做好必要的準備。\n",
    "\n",
    "今天是我就職滿三年，我有一些感想，要和各位分享。\n",
    "\n",
    "前天星期六，台灣第一座離岸風場，終於開始施工了。風機葉片現在就在台中港，等待運送到海上組裝。一切順利的話，我們在今年底就會完成這座風場，將會創下一個重要的里程碑。\n",
    "\n",
    "再生能源的夢想，台灣談了十幾年。從我上任之後，三年來經過修法、簽約、議價、開工，才終於要實現。\n",
    "\n",
    "另外，最近是報稅季節，我相信國人對於減稅的幅度非常「有感」。這是我和林全前院長，從上任一開始就反覆討論的計畫，從構想、規劃、立法、到實施，歷經三任閣揆，才讓大家感受到成果。\n",
    "\n",
    "風電跟稅改的經驗，說明了兩件事。第一，這個政府不炒短線，認真做長遠規劃。第二，一個重要的政策，通常必須是「三年有成」，才會開花結果，但在這個之前，執政者必須忍受孤獨。\n",
    "\n",
    "我必須承認，這三年來我承受很大的壓力，也經常承受壓力；但是我也有信心，第四年的時候，就是我們一起收穫的開始。\n",
    "\n",
    "我再講幾個例子。為了年金改革，我忍受了三年的謾罵，但是換來年金至少三十年不會破產，政府會有更多資源來照顧更多的人。\n",
    "\n",
    "還有前瞻基礎建設計畫，當初很多人把它罵得一無是處，但是這些人中的很多人，現在都在收割成果。接下來大家會看到，基礎建設陸續完成，同時也創造出可觀的內需，支撐台灣經濟成長。\n",
    "\n",
    "特別是在美中貿易戰的影響之下，內需會支撐台灣經濟穩定的成長。\n",
    "\n",
    "幾個星期前，我去主持了「潛艦國造」專用廠房的動土典禮。台灣自己建造潛艦，是過去每一任總統的夢想，終於在我手中開始實現。\n",
    "\n",
    "前陣子，我也參加了「福衛七號」裝箱運送的典禮。台灣人研發和製造的衛星，將可以貢獻最精準的氣象資料給全世界。台灣的太空科技，也幫助全人類觀測到黑洞的影像。\n",
    "\n",
    "這個就是「三年有成」的概念，每一項成績都不是憑空出現，需要紮實的努力。\n",
    "\n",
    "我要告訴三年來感到失望的朋友，只要多一點地耐心，你就會看見，我們做的事情比你想像得多很多。我也要告訴三年來不斷唱衰台灣的人，你們不會得逞。\n",
    "\n",
    "很多關心蔡英文的朋友，認為我實在很傻。做得越多，被罵得越兇；做了一堆長遠規劃，短期都看不見。得罪人的事，別人都第二任再做、或乾脆不做，只有蔡英文第一任就做。\n",
    "\n",
    "但是我必須要說，該做的事，就必須要做。如果第一任不敢做，第二任也不會有勇氣去做。我付出的政治代價確實很大，但如果我只做炒短線的事，這個國家就只會原地踏步，甚至是越來越衰弱。\n",
    "\n",
    "我的目標只有一個，就是不讓台灣停留在過去。國際政治經濟局勢正在劇烈變化，我必須要把國家帶向未來。\n",
    "\n",
    "就是因為這三年的努力，我們扭轉了過去的錯誤。如果我們延續國民黨「把經濟鎖在中國」的戰略，我要請問，在美中貿易戰的風險下，台灣憑什麼可以生存？\n",
    "\n",
    "我們不斷幫台灣調整經濟體質，終於迎來了「投資大爆發」的時刻。外商加碼投資，台商競相回流，還有前瞻特別預算的投資帶動了內需成長。此外，都更、長照、綠能、國防產業，每一項內需的創造，都是未來的經濟基底，都是年輕人的工作機會。\n",
    "\n",
    "過去三年，我們做了許多事，在重新定義台灣。我要請大家記住十個關鍵字：也就是「加薪減稅」、「擴大投資」、「產業升級」、「非核家園」、「綠色能源」、「年金改革」、「長照托育」、「社會住宅」、「國防自主」、「捍衛主權」。\n",
    "\n",
    "這幾個關鍵字拼湊起來，就是台灣現在和過去最大的差別，也是國家未來的圖像。忙碌的三年，一千多個日子，就是為了這一刻。\n",
    "\n",
    "也許是因為國際處境很艱難，台灣人對自己缺乏信心。但是國際社會一直看好我們。\n",
    "\n",
    "台灣的經濟在成長，在穩定的成長，機會在增加。「世界經濟論壇」說，台灣總體經濟穩定是全球第一，創新能力也是亞洲第一。\n",
    "\n",
    "因為美中貿易大戰，MIT，「Made in Taiwan」，重新成為熱門關鍵字。這就是下一個階段的國家總目標：\n",
    "\n",
    "我們不只是要再一次擦亮 MIT 的招牌，更要在原來的基礎上，創造一個「MIT upgrade」，讓「台灣製造」不再只是零組件、代工，而是共同打造一個人工智慧、綠能、高科技，所有未來人類最好的生產和生活的「新經濟典範」。\n",
    "\n",
    "因此，我希望在下一個任期，舉辦一場「台灣博覽會」，讓全世界的朋友，都看見「MIT upgrade」所帶來的綜合國力。\n",
    "\n",
    "我們有太多傲視國際的軟實力，可以展現在世人的眼前。\n",
    "\n",
    "例如，在智慧機械助攻之下，台灣機械產業產值突破兆元。物聯網也加入成為兆元產業。我們是全球 ICT 產業鏈中，品質最好的供應者。我們在生技醫藥產業的實力，同樣是居於領先地位。\n",
    "\n",
    "經過三年努力，綠能產業將會帶動近兆元的投資。\n",
    "\n",
    "潛艦國造、國機國造，會帶動國防產業鏈的發展。\n",
    "\n",
    "隨著衛星的研發，就連太空產業也會蓬勃的發展。\n",
    "\n",
    "這些，都是台灣未來長期的競爭力，也是年輕人就業的場域。\n",
    "\n",
    "還有最重要的，台灣是世界上最安全資通產品的生產基地。\n",
    "\n",
    "台灣也是世界上最活躍的高科技產品研發基地。\n",
    "\n",
    "同時我要請大家不要忘記，我們的農業、文化、醫療、教育、社福制度，都有很多國家想來台灣學習取經。\n",
    "\n",
    "「台灣製造」的招牌，一天比一天發亮。我相信一場「台灣博覽會」，不僅可以讓全世界都成為台灣的客戶，擴大各領域的合作商機，突顯台灣的軟實力。最重要的是，可以展現我們作為一個國家，這幾十年來累積的成就。\n",
    "\n",
    "最後我想說：台灣堅守民主價值，經濟自主獨立，雖然是小國小民，但是我們是好國好民。我要請問：我們有什麼理由，對她沒有信心？我們有什麼理由，把她拱手讓人？\n",
    "\n",
    "沒有錯，對岸的中國很強大，一國兩制喊得很大聲。但是我們要有自信地更大聲說：我們只有一個國家，就是中華民國台灣。我們只有一個制度，就是民主自由人權。\n",
    "\n",
    "能夠領導這個國家，是我一生最大的榮幸。過去三年我不計毀譽，帶領台灣前進。未來的任期當中，我也會繼續勇猛精進，為台灣的升級跟轉型繼續來努力，為台灣人民的安全和幸福來奮鬥到底。謝謝大家。\n",
    "\n",
    "'''"
   ]
  },
  {
   "cell_type": "code",
   "execution_count": 33,
   "metadata": {},
   "outputs": [
    {
     "data": {
      "text/plain": [
       "2434"
      ]
     },
     "execution_count": 33,
     "metadata": {},
     "output_type": "execute_result"
    }
   ],
   "source": [
    "len(speech)"
   ]
  },
  {
   "cell_type": "code",
   "execution_count": 35,
   "metadata": {},
   "outputs": [],
   "source": [
    "import jieba\n",
    "words = list(jieba.cut(speech))"
   ]
  },
  {
   "cell_type": "code",
   "execution_count": 37,
   "metadata": {},
   "outputs": [],
   "source": [
    "dic = {}\n",
    "for w in words:\n",
    "    if w not in dic:\n",
    "        dic[w] = 1\n",
    "    else:\n",
    "        dic[w] = dic[w] + 1"
   ]
  },
  {
   "cell_type": "code",
   "execution_count": 40,
   "metadata": {},
   "outputs": [],
   "source": [
    "#dic.items()"
   ]
  },
  {
   "cell_type": "code",
   "execution_count": 43,
   "metadata": {},
   "outputs": [],
   "source": [
    "swd = sorted(dic.items(), key = lambda x: x[1], reverse=True)"
   ]
  },
  {
   "cell_type": "code",
   "execution_count": 46,
   "metadata": {},
   "outputs": [
    {
     "name": "stdout",
     "output_type": "stream",
     "text": [
      "台灣 25\n",
      "我們 20\n",
      "三年 11\n",
      "就是 10\n",
      "一個 9\n",
      "經濟 9\n",
      "國家 8\n",
      "但是 7\n",
      "大家 6\n",
      "必須 6\n",
      "過去 6\n",
      "未來 6\n",
      "這個 5\n",
      "很多 5\n",
      "可以 5\n",
      "產業 5\n",
      "朋友 4\n",
      "很大 4\n",
      "重要 4\n"
     ]
    }
   ],
   "source": [
    "for k,v in swd[0:50]:\n",
    "    if len(k) > 1:\n",
    "        print(k,v)"
   ]
  },
  {
   "cell_type": "markdown",
   "metadata": {},
   "source": [
    "## Python Collections\n",
    "- https://docs.python.org/zh-cn/3/library/collections.html"
   ]
  },
  {
   "cell_type": "code",
   "execution_count": 5,
   "metadata": {},
   "outputs": [],
   "source": [
    "speech = '''\n",
    "編譯楊芙宜／台北報導〕華為在被美國列為出口管制的貿易黑名單後，旗下晶片設計大廠海思致信給員工稱，多年打造的「備胎」一夜轉正，創辦人任正非受訪也自稱華為晶片能夠做到像「美國芯（晶）片一樣」；不過，一名華為前員工近日親身透露華為備胎晶片實情，直言「只要美國斷芯，華為99%死定」、「1%生存可能，就是中國閉關鎖國」。\n",
    "\n",
    "海外華文媒體「大紀元」轉載這位華為前員工撰寫的文章指出，華為的麒麟是SoC（系統單晶片）晶片，包括CPU（核心處理器）、GPU（繪圖處理器）、無線電基帶和射頻；其中CPU和GPU用的是ARM（安謀）的架構，基帶和射頻使用很多高通（Qualcomm）的技術和專利，「這都需要向國外廠商購買或得到授權，這也是麒麟不外賣的原因，因為沒有授權」。\n",
    "\n",
    "文章批評，中國官媒央視說華為的麒麟晶片是100%的中國智慧財產（IP），絕對是忽悠（欺騙）；很多應用晶片就是運算架構和運算法的硬體化，大多數架構和算法中國都沒有IP，需要得到國外廠商的授權和許可證。\n",
    "\n",
    "文章指出，若誤以為海思把華為所需「關鍵核心晶片」的備胎設計出來，就可以救華為，那就是太無知了，因為少了不起眼的「輔助晶片」，如供電晶片、橋晶片、數模轉換晶片等等，就像少了空氣一樣，雖平常不覺得它存在，一旦缺失，就會窒息而死。\n",
    "\n",
    "文章說，所以只要美國斷芯（美國佔有全世界高端晶片80%以上），華為是99%死定，那1%生存的可能，就是中國閉關鎖國；對了，還忘了說晶片設計輔助軟體，美國在這方面幾乎壟斷了。\n",
    "\n",
    "文章指出，華為任老闆看到中興通訊去年被美國斷貨的下場，早早做了準備，但這備胎能不能用，好不好用，仍是個問題。\n",
    "\n",
    "這位前華為員工說，中國或許可以埋頭苦幹4、5年，發展自己新指令架構、做到不仰人鼻息，但若獨門祕笈沒有其他人跟隨、生態系統不能發展，上下游（編譯器、操作系統、晶片方案、終端、應用程式等等）都得不到開發，最後必然是死路一條。\n",
    "'''"
   ]
  },
  {
   "cell_type": "code",
   "execution_count": 52,
   "metadata": {},
   "outputs": [
    {
     "name": "stdout",
     "output_type": "stream",
     "text": [
      "晶片 15\n",
      "華為 10\n",
      "文章 5\n",
      "美國 4\n",
      "就是 4\n",
      "備胎 3\n",
      "指出 3\n",
      "麒麟 3\n",
      "系統 3\n",
      "授權 3\n",
      "中國 3\n",
      "海思 2\n",
      "做到 2\n",
      "前員工 2\n",
      "只要 2\n",
      "美國斷 2\n",
      "99% 2\n",
      "死定 2\n",
      "1% 2\n",
      "生存 2\n",
      "可能 2\n",
      "中國閉 2\n",
      "關鎖國 2\n",
      "這位 2\n",
      "CPU 2\n",
      "核心 2\n"
     ]
    }
   ],
   "source": [
    "import jieba\n",
    "from collections import Counter\n",
    "words = list(jieba.cut(speech))\n",
    "c = Counter(words)\n",
    "for k,v in c.most_common(50):\n",
    "    if len(k) > 1:\n",
    "        print(k,v)"
   ]
  },
  {
   "cell_type": "code",
   "execution_count": 3,
   "metadata": {},
   "outputs": [
    {
     "data": {
      "text/plain": [
       "<_sre.SRE_Match object; span=(0, 1), match='柯'>"
      ]
     },
     "execution_count": 3,
     "metadata": {},
     "output_type": "execute_result"
    }
   ],
   "source": [
    "import re\n",
    "s = '你好'\n",
    "s = 'how'\n",
    "s = '柯p'\n",
    "re.match('[\\u4e00-\\u9fa5]+', s)"
   ]
  },
  {
   "cell_type": "code",
   "execution_count": 6,
   "metadata": {},
   "outputs": [
    {
     "name": "stderr",
     "output_type": "stream",
     "text": [
      "Building prefix dict from the default dictionary ...\n",
      "Loading model from cache /var/folders/46/b7dzk4mn6g54qzptv608w7d00000gn/T/jieba.cache\n",
      "Loading model cost 0.845 seconds.\n",
      "Prefix dict has been built succesfully.\n"
     ]
    },
    {
     "name": "stdout",
     "output_type": "stream",
     "text": [
      "晶片 15\n",
      "華為 12\n",
      "美國 6\n",
      "中國 6\n",
      "文章 5\n",
      "備胎 4\n",
      "就是 4\n",
      "設計 3\n",
      "指出 3\n",
      "麒麟 3\n",
      "系統 3\n",
      "架構 3\n",
      "授權 3\n",
      "海思 2\n",
      "做到 2\n",
      "員工 2\n",
      "只要 2\n",
      "斷芯 2\n",
      "死定 2\n",
      "生存 2\n",
      "可能 2\n"
     ]
    }
   ],
   "source": [
    "import jieba\n",
    "import re\n",
    "from collections import Counter\n",
    "words = list(jieba.cut(speech))\n",
    "c = Counter(words)\n",
    "for k,v in c.most_common(50):\n",
    "    if len(k) > 1 and re.match('[\\u4e00-\\u9fa5]+', k):\n",
    "        print(k,v)"
   ]
  },
  {
   "cell_type": "code",
   "execution_count": 8,
   "metadata": {},
   "outputs": [],
   "source": [
    "import jieba\n",
    "import re\n",
    "from collections import Counter\n",
    "words = list(jieba.cut(speech))\n",
    "c = Counter(words)\n",
    "ary = []\n",
    "for k,v in c.most_common(50):\n",
    "    if len(k) > 1 and re.match('[\\u4e00-\\u9fa5]+', k):\n",
    "        ary.append((k,v))\n",
    "import pandas\n",
    "df = pandas.DataFrame(ary)\n",
    "df.to_excel('freq_words.xlsx')"
   ]
  },
  {
   "cell_type": "code",
   "execution_count": null,
   "metadata": {},
   "outputs": [],
   "source": []
  }
 ],
 "metadata": {
  "kernelspec": {
   "display_name": "Python 3",
   "language": "python",
   "name": "python3"
  },
  "language_info": {
   "codemirror_mode": {
    "name": "ipython",
    "version": 3
   },
   "file_extension": ".py",
   "mimetype": "text/x-python",
   "name": "python",
   "nbconvert_exporter": "python",
   "pygments_lexer": "ipython3",
   "version": "3.6.2"
  }
 },
 "nbformat": 4,
 "nbformat_minor": 2
}
